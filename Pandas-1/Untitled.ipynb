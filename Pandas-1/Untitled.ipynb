{
 "cells": [
  {
   "cell_type": "markdown",
   "metadata": {},
   "source": [
    "Скачайте с сайта https://grouplens.org/datasets/movielens/ датасет любого размера. Определите какому фильму было выставлено больше всего оценок 5.0."
   ]
  },
  {
   "cell_type": "code",
   "execution_count": null,
   "metadata": {},
   "outputs": [],
   "source": [
    "import pandas as pd"
   ]
  },
  {
   "cell_type": "code",
   "execution_count": 58,
   "metadata": {},
   "outputs": [
    {
     "data": {
      "text/html": [
       "<div>\n",
       "<style scoped>\n",
       "    .dataframe tbody tr th:only-of-type {\n",
       "        vertical-align: middle;\n",
       "    }\n",
       "\n",
       "    .dataframe tbody tr th {\n",
       "        vertical-align: top;\n",
       "    }\n",
       "\n",
       "    .dataframe thead th {\n",
       "        text-align: right;\n",
       "    }\n",
       "</style>\n",
       "<table border=\"1\" class=\"dataframe\">\n",
       "  <thead>\n",
       "    <tr style=\"text-align: right;\">\n",
       "      <th></th>\n",
       "      <th>movieId</th>\n",
       "      <th>title</th>\n",
       "      <th>genres</th>\n",
       "    </tr>\n",
       "  </thead>\n",
       "  <tbody>\n",
       "    <tr>\n",
       "      <th>314</th>\n",
       "      <td>318</td>\n",
       "      <td>Shawshank Redemption, The (1994)</td>\n",
       "      <td>Crime|Drama</td>\n",
       "    </tr>\n",
       "  </tbody>\n",
       "</table>\n",
       "</div>"
      ],
      "text/plain": [
       "     movieId                             title       genres\n",
       "314      318  Shawshank Redemption, The (1994)  Crime|Drama"
      ]
     },
     "execution_count": 58,
     "metadata": {},
     "output_type": "execute_result"
    }
   ],
   "source": [
    "scores_df = pd.read_csv('ratings.csv')\n",
    "# Прдеставим, что не знаем что такое groupby\n",
    "onlyhighscores = scores_df[(scores_df.rating == 5.0)]\n",
    "bestmovieID = onlyhighscores['movieId'].value_counts().index.values[0]\n",
    "movies_df = pd.read_csv('movies.csv')\n",
    "movies_df[(movies_df.movieId == bestmovieID)]\n"
   ]
  },
  {
   "cell_type": "markdown",
   "metadata": {},
   "source": [
    "По данным файла power.csv посчитайте суммарное потребление стран Прибалтики (Латвия, Литва и Эстония) категорий 4, 12 и 21 за период с 2005 по 2010 года. Не учитывайте в расчетах отрицательные значения quantity."
   ]
  },
  {
   "cell_type": "code",
   "execution_count": 57,
   "metadata": {},
   "outputs": [
    {
     "name": "stdout",
     "output_type": "stream",
     "text": [
      "240481.0\n"
     ]
    }
   ],
   "source": [
    "power_df = pd.read_csv('power.csv')\n",
    "filtered_df = power_df[ (power_df.year >= 2005) & (power_df.year <= 2010) & \\\n",
    "                       ((power_df.country == 'Estonia') | \\\n",
    "                        (power_df.country == 'Latvia') | \\\n",
    "                        (power_df.country == 'Lithuania')) & \\\n",
    "                      ((power_df.category == 4) | (power_df.category == 12) | (power_df.category == 21))]\n",
    "filtered_df.to_excel('sample.xls')\n",
    "summary_consume = filtered_df['quantity'].sum()\n",
    "print(summary_consume)"
   ]
  },
  {
   "cell_type": "markdown",
   "metadata": {},
   "source": [
    "Выберите страницу любого сайта с табличными данными. Импортируйте таблицы в pandas dataframe."
   ]
  },
  {
   "cell_type": "code",
   "execution_count": 72,
   "metadata": {},
   "outputs": [
    {
     "data": {
      "text/html": [
       "<div>\n",
       "<style scoped>\n",
       "    .dataframe tbody tr th:only-of-type {\n",
       "        vertical-align: middle;\n",
       "    }\n",
       "\n",
       "    .dataframe tbody tr th {\n",
       "        vertical-align: top;\n",
       "    }\n",
       "\n",
       "    .dataframe thead th {\n",
       "        text-align: right;\n",
       "    }\n",
       "</style>\n",
       "<table border=\"1\" class=\"dataframe\">\n",
       "  <thead>\n",
       "    <tr style=\"text-align: right;\">\n",
       "      <th></th>\n",
       "      <th>Rank</th>\n",
       "      <th>Country</th>\n",
       "      <th>(%)</th>\n",
       "      <th>Date of Information</th>\n",
       "    </tr>\n",
       "  </thead>\n",
       "  <tbody>\n",
       "    <tr>\n",
       "      <th>0</th>\n",
       "      <td>1</td>\n",
       "      <td>South Sudan</td>\n",
       "      <td>3.83</td>\n",
       "      <td>2017 est.</td>\n",
       "    </tr>\n",
       "    <tr>\n",
       "      <th>1</th>\n",
       "      <td>2</td>\n",
       "      <td>Angola</td>\n",
       "      <td>3.52</td>\n",
       "      <td>2017 est.</td>\n",
       "    </tr>\n",
       "    <tr>\n",
       "      <th>2</th>\n",
       "      <td>3</td>\n",
       "      <td>Malawi</td>\n",
       "      <td>3.31</td>\n",
       "      <td>2017 est.</td>\n",
       "    </tr>\n",
       "    <tr>\n",
       "      <th>3</th>\n",
       "      <td>4</td>\n",
       "      <td>Burundi</td>\n",
       "      <td>3.25</td>\n",
       "      <td>2017 est.</td>\n",
       "    </tr>\n",
       "    <tr>\n",
       "      <th>4</th>\n",
       "      <td>5</td>\n",
       "      <td>Uganda</td>\n",
       "      <td>3.20</td>\n",
       "      <td>2017 est.</td>\n",
       "    </tr>\n",
       "    <tr>\n",
       "      <th>...</th>\n",
       "      <td>...</td>\n",
       "      <td>...</td>\n",
       "      <td>...</td>\n",
       "      <td>...</td>\n",
       "    </tr>\n",
       "    <tr>\n",
       "      <th>229</th>\n",
       "      <td>230</td>\n",
       "      <td>Saint Pierre and Miquelon</td>\n",
       "      <td>-1.08</td>\n",
       "      <td>2017 est.</td>\n",
       "    </tr>\n",
       "    <tr>\n",
       "      <th>230</th>\n",
       "      <td>231</td>\n",
       "      <td>Lebanon</td>\n",
       "      <td>-1.10</td>\n",
       "      <td>2017 est.</td>\n",
       "    </tr>\n",
       "    <tr>\n",
       "      <th>231</th>\n",
       "      <td>232</td>\n",
       "      <td>American Samoa</td>\n",
       "      <td>-1.30</td>\n",
       "      <td>2017 est.</td>\n",
       "    </tr>\n",
       "    <tr>\n",
       "      <th>232</th>\n",
       "      <td>233</td>\n",
       "      <td>Puerto Rico</td>\n",
       "      <td>-1.74</td>\n",
       "      <td>2017 est.</td>\n",
       "    </tr>\n",
       "    <tr>\n",
       "      <th>233</th>\n",
       "      <td>234</td>\n",
       "      <td>Cook Islands</td>\n",
       "      <td>-2.79</td>\n",
       "      <td>2017 est.</td>\n",
       "    </tr>\n",
       "  </tbody>\n",
       "</table>\n",
       "<p>234 rows × 4 columns</p>\n",
       "</div>"
      ],
      "text/plain": [
       "     Rank                    Country   (%) Date of Information\n",
       "0       1                South Sudan  3.83           2017 est.\n",
       "1       2                     Angola  3.52           2017 est.\n",
       "2       3                     Malawi  3.31           2017 est.\n",
       "3       4                    Burundi  3.25           2017 est.\n",
       "4       5                     Uganda  3.20           2017 est.\n",
       "..    ...                        ...   ...                 ...\n",
       "229   230  Saint Pierre and Miquelon -1.08           2017 est.\n",
       "230   231                    Lebanon -1.10           2017 est.\n",
       "231   232             American Samoa -1.30           2017 est.\n",
       "232   233                Puerto Rico -1.74           2017 est.\n",
       "233   234               Cook Islands -2.79           2017 est.\n",
       "\n",
       "[234 rows x 4 columns]"
      ]
     },
     "execution_count": 72,
     "metadata": {},
     "output_type": "execute_result"
    }
   ],
   "source": [
    "corona_df = pd.read_html('https://www.cia.gov/library/publications/the-world-factbook/rankorder/2002rank.html')[0]\n",
    "corona_df"
   ]
  },
  {
   "cell_type": "code",
   "execution_count": null,
   "metadata": {},
   "outputs": [],
   "source": []
  }
 ],
 "metadata": {
  "kernelspec": {
   "display_name": "Python 3",
   "language": "python",
   "name": "python3"
  },
  "language_info": {
   "codemirror_mode": {
    "name": "ipython",
    "version": 3
   },
   "file_extension": ".py",
   "mimetype": "text/x-python",
   "name": "python",
   "nbconvert_exporter": "python",
   "pygments_lexer": "ipython3",
   "version": "3.7.6"
  }
 },
 "nbformat": 4,
 "nbformat_minor": 4
}

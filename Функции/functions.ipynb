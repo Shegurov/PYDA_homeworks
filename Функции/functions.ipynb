{
 "cells": [
  {
   "cell_type": "markdown",
   "metadata": {},
   "source": [
    "Вы работаете секретарем и вам постоянно приходят различные документы. Вы должны быть очень внимательны, чтобы не потерять ни один документ. Каталог документов хранится в следующем виде:"
   ]
  },
  {
   "cell_type": "code",
   "execution_count": null,
   "metadata": {},
   "outputs": [],
   "source": [
    "documents = [\n",
    "    {'type': 'passport', 'number': '2207 876234', 'name': 'Василий Гупкин'},\n",
    "    {'type': 'invoice', 'number': '11-2', 'name': 'Геннадий Покемонов'},\n",
    "    {'type': 'insurance', 'number': '10006', 'name': 'Аристарх Павлов'}\n",
    "]"
   ]
  },
  {
   "cell_type": "markdown",
   "metadata": {},
   "source": [
    "Перечень полок, на которых находятся документы хранится в следующем виде:"
   ]
  },
  {
   "cell_type": "code",
   "execution_count": null,
   "metadata": {},
   "outputs": [],
   "source": [
    "directories = {\n",
    "    '1': ['2207 876234', '11-2'],\n",
    "    '2': ['10006'],\n",
    "    '3': []\n",
    "}"
   ]
  },
  {
   "cell_type": "code",
   "execution_count": null,
   "metadata": {},
   "outputs": [
    {
     "name": "stdout",
     "output_type": "stream",
     "text": [
      "Введите команду: s\n",
      "Введите номер документа: 10006\n",
      "{'list_index': 2, 'shelf_index': ['2', 0]}\n",
      "Документ № 10006 находится на полке № 2\n"
     ]
    }
   ],
   "source": [
    "documents = [\n",
    "    {'type': 'passport', 'number': '2207 876234', 'name': 'Василий Гупкин'},\n",
    "    {'type': 'invoice', 'number': '11-2', 'name': 'Геннадий Покемонов'},\n",
    "    {'type': 'insurance', 'number': '10006', 'name': 'Аристарх Павлов'}\n",
    "]\n",
    "\n",
    "directories = {\n",
    "    '1': ['2207 876234', '11-2'],\n",
    "    '2': ['10006'],\n",
    "    '3': []\n",
    "}\n",
    "\n",
    "def user_input(documents, directories):\n",
    "    while True:\n",
    "        command = input('Введите команду: ')\n",
    "        if command == 'p':\n",
    "            docnumber_input = input('Введите номер документа: ')\n",
    "            result = document_search(docnumber_input, documents, directories)\n",
    "            if result['list_index'] is not \"Not found\":\n",
    "                print(f\"Владельцем документа № {docnumber_input} является {documents[result['list_index']]['name']}\")\n",
    "            else:\n",
    "                print(\"Документ с таким номером не найден!\")\n",
    "        elif command == 's':\n",
    "            docnumber_input = input('Введите номер документа: ')\n",
    "            result = document_search(docnumber_input, documents, directories)\n",
    "            print(result)\n",
    "            if result['shelf_index'] is not 'Not found':\n",
    "                print(f\"Документ № {docnumber_input} находится на полке № {result['shelf_index'][0]}\")\n",
    "            else:\n",
    "                print(\"Документ с таким номером не найден!\")\n",
    "        elif command == 'l':\n",
    "            document_list(documents)  \n",
    "        elif command == 'as':\n",
    "            directories = shelf_adding(directories)\n",
    "        elif command == 'd':\n",
    "            print(document_search(\"10006\", None , directories))\n",
    "        elif command == 'm':\n",
    "            print(command)\n",
    "        elif command == 'a':\n",
    "            print(command)\n",
    "        else: \n",
    "            print('Неопознаная команда! Выходим.')\n",
    "            break\n",
    "\n",
    "#Универсальная функция поиска документа по его номеру:\n",
    "def document_search(docnumber, documents=None, directories=None):\n",
    "    result = {}\n",
    "    if documents is not None: \n",
    "        found = False\n",
    "        for i in range(0,len(documents)):\n",
    "            if documents[i]['number'] == docnumber:\n",
    "                result['list_index'] = i\n",
    "                found = True\n",
    "        if found == False:\n",
    "            result['list_index'] = \"Not found\"\n",
    "    else:\n",
    "        result['list_index'] = \"Not found\"\n",
    "    if directories is not None: \n",
    "        found = False\n",
    "        for keys, values in directories.items():\n",
    "            for i in range(0, len(values)):\n",
    "                if docnumber == values[i]:\n",
    "                    result['shelf_index'] = [keys, i]\n",
    "                    found = True\n",
    "        if found == False:\n",
    "            result['shelf_index'] = \"Not found\"\n",
    "    else:\n",
    "        result['shelf_index'] = \"Not found\"\n",
    "    return result\n",
    "\n",
    "#Вывод списка документов: \n",
    "def document_list(documents):\n",
    "    for element in documents:\n",
    "        print(f\"{element['type']} \\t {element['number']} \\t {element['name']}\")\n",
    "            \n",
    "# #Поиск владельца документа по номеру: \n",
    "# def document_belonging(docnumber, documents):\n",
    "#     for element in documents:\n",
    "#         if element['number'] == docnumber:\n",
    "#             return element['name']\n",
    "\n",
    "# #Определение расположения документа:         \n",
    "# def document_location(docnumber, directories):\n",
    "#     for k, v in directories.items():\n",
    "#         for element in v:\n",
    "#             if docnumber == element:\n",
    "#                 return k\n",
    "#Добавление новой полки:            \n",
    "def shelf_adding(directories):\n",
    "    shelf_name_input = input(\"Введите номер новой полки: \")\n",
    "    try:\n",
    "        list(directories.keys()).index(shelf_name_input)\n",
    "    except Exception:\n",
    "        directories[shelf_name_input] = []\n",
    "        print(f\"Полка с именем {shelf_name_input} успешно добавлена!\")\n",
    "    else:\n",
    "        print(\"Полка с таким именем уже существует!\")\n",
    "    return directories\n",
    "    \n",
    "#Удаление документа из списка:\n",
    "    \n",
    "            \n",
    "user_input(documents, directories)"
   ]
  },
  {
   "cell_type": "markdown",
   "metadata": {},
   "source": [
    "Необходимо реализовать пользовательские команды (внимание! это не название функций, которые должны быть выразительными, а команды, которые вводит пользователь, чтобы получить необходимый результат):\n",
    "  \n",
    "- p – people – команда, которая спросит номер документа и выведет имя человека, которому он принадлежит;  \n",
    "- s – shelf – команда, которая спросит номер документа и выведет номер полки, на которой он находится  \n",
    "*Правильно обработайте ситуации, когда пользователь будет вводить несуществующий документ*.\n",
    "- l – list – команда, которая выведет список всех документов в формате   \n",
    "**passport \"2207 876234\" \"Василий Гупкин\"**  \n",
    "- as – add shelf – команда, которая спросит номер новой полки и добавит ее в перечень. *Предусмотрите случай, когда пользователь добавляет полку, которая уже существует*.\n",
    "- d – delete – команда, которая спросит номер документа и удалит его из каталога и из перечня полок. *Предусмотрите сценарий, когда пользователь вводит несуществующий документ*;  \n",
    "- m – move – команда, которая спросит номер документа и целевую полку и переместит его с текущей полки на целевую. *Корректно обработайте кейсы, когда пользователь пытается переместить несуществующий документ или переместить документ на несуществующую полку*;  \n",
    "- a – add – команда, которая добавит новый документ в каталог и в перечень полок, спросив его номер, тип, имя владельца и номер полки, на котором он будет храниться. *Корректно обработайте ситуацию, когда пользователь будет пытаться добавить документ на несуществующую полку*."
   ]
  },
  {
   "cell_type": "code",
   "execution_count": null,
   "metadata": {},
   "outputs": [],
   "source": []
  }
 ],
 "metadata": {
  "kernelspec": {
   "display_name": "Python 3",
   "language": "python",
   "name": "python3"
  },
  "language_info": {
   "codemirror_mode": {
    "name": "ipython",
    "version": 3
   },
   "file_extension": ".py",
   "mimetype": "text/x-python",
   "name": "python",
   "nbconvert_exporter": "python",
   "pygments_lexer": "ipython3",
   "version": "3.7.6"
  }
 },
 "nbformat": 4,
 "nbformat_minor": 2
}

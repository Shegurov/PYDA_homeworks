{
 "cells": [
  {
   "cell_type": "markdown",
   "metadata": {},
   "source": [
    "**Задание 1**. Даны 2 строки: *long_phrase* и *short_phrase*. \n",
    "Напишите код, который проверяет действительно ли длинная фраза *long_phrase* длиннее короткой *short_phrase*. И выводит *True* или *False* в зависимости от результата сравнения."
   ]
  },
  {
   "cell_type": "code",
   "execution_count": 2,
   "metadata": {},
   "outputs": [],
   "source": [
    "long_phrase = 'Насколько проще было бы писать программы, если бы не заказчики'\n",
    "short_phrase = '640Кб должно хватить для любых задач. Билл Гейтс (по легенде)'"
   ]
  },
  {
   "cell_type": "code",
   "execution_count": 3,
   "metadata": {},
   "outputs": [
    {
     "name": "stdout",
     "output_type": "stream",
     "text": [
      "True\n"
     ]
    }
   ],
   "source": [
    "print(len(long_phrase)>len(short_phrase))"
   ]
  },
  {
   "cell_type": "markdown",
   "metadata": {},
   "source": [
    "**Задание 2**. Дано значение объема файла в байтах (*в мегабайте 2^20 байт*). Напишите перевод этого значения в мегабайты в формате: \"*Объем файла равен 213.68Mb*\"."
   ]
  },
  {
   "cell_type": "code",
   "execution_count": 12,
   "metadata": {},
   "outputs": [
    {
     "name": "stdout",
     "output_type": "stream",
     "text": [
      "Введите размер файла в байтах: 145344545\n",
      "Объем файла равен 138.61Mb\n"
     ]
    }
   ],
   "source": [
    "file_size_in_bytes = int(input(\"Введите размер файла в байтах: \"))\n",
    "file_size_in_mbytes = file_size_in_bytes / (2**20)\n",
    "print(\"Объем файла равен {0:.2f}Mb\".format(file_size_in_mbytes))"
   ]
  },
  {
   "cell_type": "markdown",
   "metadata": {},
   "source": [
    "**Задание 3**. Разработать приложение для определения знака зодиака по дате рождения. Пример:\n",
    "\n",
    "Введите месяц: март\n",
    "\n",
    "Введите число: 6\n",
    "\n",
    "Вывод:\n",
    "Рыбы"
   ]
  },
  {
   "cell_type": "code",
   "execution_count": 26,
   "metadata": {},
   "outputs": [
    {
     "name": "stdout",
     "output_type": "stream",
     "text": [
      "Введите месяц: июнь\n",
      "Введите число: 5\n",
      "Близнецы\n"
     ]
    }
   ],
   "source": [
    "month = input(\"Введите месяц: \")\n",
    "month = month.lower()\n",
    "if month != \"декабрь\" and month != \"январь\" and month != \"февраль\" and month != \"март\" \\\n",
    "and month != \"апрель\" and month != \"май\" and month != \"июнь\" and month != \"июль\" \\\n",
    "and month != \"август\" and month != \"сентябрь\" and month != \"октябрь\" and month != \"ноябрь\":\n",
    "    print(\"Введен неверный месяц\")\n",
    "else:\n",
    "    day = int(input(\"Введите число: \"))\n",
    "    if day > 31 or day <1: #Нужно ещё сделать проверку на то, что в некоторых месяцах не 31, а 29 и 30 дней. И Проверку на високосный год, но тогда нужно вводить года\n",
    "        print(\"Введён неверный день\") \n",
    "    else:\n",
    "        if (month == \"март\" and day >=21) or (month == \"апрель\" and day <=20):\n",
    "            print(\"Овен\")\n",
    "        elif (month == \"апрель\" and day >=21) or (month == \"май\" and day <=21):\n",
    "            print(\"Телец\")\n",
    "        elif (month == \"май\" and day >=22) or (month == \"июнь\" and day <=21):\n",
    "            print(\"Близнецы\")\n",
    "        elif (month == \"июнь\" and day >=22) or (month == \"июль\" and day <=22):\n",
    "            print(\"Рак\")\n",
    "        elif (month == \"июль\" and day >=23) or (month == \"август\" and day <=23):\n",
    "            print(\"Лев\")\n",
    "        elif (month == \"август\" and day >=24) or (month == \"сентябрь\" and day <=23):\n",
    "            print(\"Дева\")\n",
    "        elif (month == \"сентябрь\" and day >=24) or (month == \"октябрь\" and day <=23):\n",
    "            print(\"Весы\")\n",
    "        elif (month == \"октябрь\" and day >=24) or (month == \"ноябрь\" and day <=22):\n",
    "            print(\"Скорпион\")\n",
    "        elif (month == \"ноябрь\" and day >=23) or (month == \"декабрь\" and day <=21):\n",
    "            print(\"Стрелец\")  \n",
    "        elif (month == \"декабрь\" and day >=22) or (month == \"январь\" and day <=20):\n",
    "            print(\"Козерог\")   \n",
    "        elif (month == \"январь\" and day >=21) or (month == \"февраль\" and day <=18):\n",
    "            print(\"Водолей\")\n",
    "        elif (month == \"февраль\" and day >=19) or (month == \"март\" and day <=20):\n",
    "            print(\"Рыбы\")   "
   ]
  },
  {
   "cell_type": "markdown",
   "metadata": {},
   "source": [
    "**Задание 4**. Нужно разработать приложение для финансового планирования.\n",
    "Приложение учитывает сколько уходит на ипотеку, \"на жизнь\" и сколько нужно отложить на пенсию.\n",
    "Пользователь вводит:\n",
    "- заработанную плату в месяц.\n",
    "- сколько процентов от ЗП уходит на ипотеку.\n",
    "- сколько процентов от ЗП уходит \"на жизнь\".\n",
    "- сколько раз приходит премия в год.\n",
    "\n",
    "Остальная часть заработанной платы откладывается на пенсию.\n",
    "\n",
    "Также пользователю приходит премия в размере зарплаты, от которой половина уходит на отпуск, а вторая половина откладывается.\n",
    "\n",
    "Программа должна учитывать сколько премий было в год.\n",
    "\n",
    "Нужно вывести сколько денег тратит пользователь на ипотеку и сколько он накопит за год.\n",
    "\n",
    "Пример:\n",
    "\n",
    "Введите заработанную плату в месяц: 100000\n",
    "\n",
    "Введите сколько процентов уходит на ипотеку: 30\n",
    "\n",
    "Введите сколько процентов уходит на жизнь: 50\n",
    "\n",
    "Введите количество премий за год: 2\n",
    "\n",
    "Вывод:\n",
    "На ипотеку было потрачено: 360000 рублей\n",
    "Было накоплено: 340000 рублей"
   ]
  },
  {
   "cell_type": "code",
   "execution_count": 36,
   "metadata": {},
   "outputs": [
    {
     "name": "stdout",
     "output_type": "stream",
     "text": [
      "Введите заработанную плату в месяц 53425\n",
      "Введите, сколько процентов уходит на ипотеку 3\n",
      "Введите, сколько процентов уходит на жизнь 35\n",
      "Введите, сколько раз в год приходит премия 12\n",
      "На ипотеку было потрачено: 19233 рубля. Было накоплено: 718032 рубля.\n"
     ]
    }
   ],
   "source": [
    "#Ввод данных:\n",
    "monthly_income = int(input(\"Введите заработанную плату в месяц: \"))\n",
    "mortgage_percent = int(input(\"Введите, сколько процентов уходит на ипотеку: \"))\n",
    "life_expense_percent = int(input(\"Введите, сколько процентов уходит на жизнь: \"))\n",
    "salary_bonus_quantity = int(input(\"Введите, сколько раз в год приходит премия: \"))\n",
    "\n",
    "#считаем годовые расходы по ипотеке:\n",
    "mortgage_annual_summary = (monthly_income * 12) * mortgage_percent / 100\n",
    "\n",
    "#пытаемся понять, какое окончание должно быть у слова рубль:\n",
    "mortgage_text_ending =\"\"\n",
    "if int(round(mortgage_annual_summary % 10)) == 0 or int(round(mortgage_annual_summary % 10)) % 10 == 5 \\\n",
    "or int(round(mortgage_annual_summary % 10)) == 6 or int(round(mortgage_annual_summary % 10)) == 7 \\\n",
    "or int(round(mortgage_annual_summary % 10)) == 8 or int(round(mortgage_annual_summary % 10)) == 9: \n",
    "    mortgage_text_ending = \"рублей\"\n",
    "elif int(round(mortgage_annual_summary % 10)) == 1:\n",
    "    mortgage_text_ending = \"рубль\"\n",
    "else: \n",
    "    mortgage_text_ending = \"рубля\"\n",
    "    \n",
    "#считаем годовые накопления:\n",
    "money_savings_annual = (monthly_income - ((mortgage_percent + life_expense_percent)* monthly_income /100 )) \\\n",
    "* 12 + (salary_bonus_quantity * monthly_income / 2)\n",
    "\n",
    "#пытаемся понять, какое окончание должно быть у слова рубль(ещё раз, возможно лучше было написать функцию):\n",
    "money_savings_ending = \"\"\n",
    "if int(round(money_savings_annual % 10)) == 0 or int(round(money_savings_annual % 10)) == 5 \\\n",
    "or int(round(money_savings_annual % 10)) == 6 or int(round(money_savings_annual % 10)) == 7 \\\n",
    "or int(round(money_savings_annual % 10)) == 8 or int(round(money_savings_annual % 10)) == 9: \n",
    "    money_savings_ending = \"рублей\"\n",
    "elif int(round(money_savings_annual % 10)) == 1:\n",
    "    money_savings_ending = \"рубль\"\n",
    "else: \n",
    "    money_savings_ending = \"рубля\"\n",
    "#Вывод:    \n",
    "print(\"На ипотеку было потрачено: {0:.0f} {2}. Было накоплено: {1:.0f} {3}.\".format(mortgage_annual_summary, money_savings_annual, mortgage_text_ending, money_savings_ending))"
   ]
  },
  {
   "cell_type": "code",
   "execution_count": null,
   "metadata": {},
   "outputs": [],
   "source": []
  },
  {
   "cell_type": "code",
   "execution_count": 32,
   "metadata": {},
   "outputs": [
    {
     "data": {
      "text/plain": [
       "144242342"
      ]
     },
     "execution_count": 32,
     "metadata": {},
     "output_type": "execute_result"
    }
   ],
   "source": [
    "144242342"
   ]
  },
  {
   "cell_type": "code",
   "execution_count": null,
   "metadata": {},
   "outputs": [],
   "source": []
  }
 ],
 "metadata": {
  "kernelspec": {
   "display_name": "Python 3",
   "language": "python",
   "name": "python3"
  },
  "language_info": {
   "codemirror_mode": {
    "name": "ipython",
    "version": 3
   },
   "file_extension": ".py",
   "mimetype": "text/x-python",
   "name": "python",
   "nbconvert_exporter": "python",
   "pygments_lexer": "ipython3",
   "version": "3.7.6"
  }
 },
 "nbformat": 4,
 "nbformat_minor": 2
}
